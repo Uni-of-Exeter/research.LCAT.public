{
 "cells": [
  {
   "cell_type": "markdown",
   "metadata": {},
   "source": [
    "# Kumu and reference processing\n",
    "\n",
    "* To show references linked to adaptations in LCAT, we need to process data downloaded from the Kumu project, and link this with reference data scraped from the web (via DOI).\n",
    "* References have been deposited in Google Sheets, and are available as .csv. Kumu data has been downloaded as .json.\n",
    "* Outputs are a .json references file that can be added to the database, and a Kumu json file that can be shipped with the client.\n",
    "\n",
    "Note that web scraping by DOI is fairly brittle, so this might break at any time."
   ]
  },
  {
   "cell_type": "markdown",
   "metadata": {},
   "source": [
    "## Initialise"
   ]
  },
  {
   "cell_type": "code",
   "execution_count": 1,
   "metadata": {},
   "outputs": [],
   "source": [
    "import os\n",
    "import yaml\n",
    "\n",
    "# The cwd should be the data folder root\n",
    "os.chdir(\"..\")"
   ]
  },
  {
   "cell_type": "code",
   "execution_count": 2,
   "metadata": {},
   "outputs": [],
   "source": [
    "config_filepath = \"./config.yml\"\n",
    "\n",
    "with open(config_filepath) as f:\n",
    "    conf = yaml.load(f, Loader=yaml.FullLoader)"
   ]
  },
  {
   "cell_type": "markdown",
   "metadata": {},
   "source": [
    "## Process Kumu"
   ]
  },
  {
   "cell_type": "code",
   "execution_count": 3,
   "metadata": {},
   "outputs": [],
   "source": [
    "from src.process_kumu import ProcessKumu"
   ]
  },
  {
   "cell_type": "code",
   "execution_count": 4,
   "metadata": {},
   "outputs": [],
   "source": [
    "kumu_filepath = conf[\"kumu_json\"]"
   ]
  },
  {
   "cell_type": "code",
   "execution_count": 5,
   "metadata": {},
   "outputs": [],
   "source": [
    "kumu_processor = ProcessKumu(kumu_filepath)"
   ]
  },
  {
   "cell_type": "code",
   "execution_count": 6,
   "metadata": {},
   "outputs": [],
   "source": [
    "kumu_processor.filter_data()"
   ]
  },
  {
   "cell_type": "code",
   "execution_count": 7,
   "metadata": {},
   "outputs": [],
   "source": [
    "kumu_processor.update_layer_names()"
   ]
  },
  {
   "cell_type": "code",
   "execution_count": 8,
   "metadata": {},
   "outputs": [],
   "source": [
    "kumu_processor.aggregate_layers()"
   ]
  },
  {
   "cell_type": "code",
   "execution_count": 9,
   "metadata": {},
   "outputs": [],
   "source": [
    "output_filepath = \"./processed_kumu.json\"\n",
    "kumu_processor.save_json(output_filepath)"
   ]
  },
  {
   "cell_type": "markdown",
   "metadata": {},
   "source": [
    "## Process references\n",
    "\n",
    "* We have slowly improved the reference file present on Google Sheets. This now includes data scraped using the scraping code provided below.\n",
    "* As scraping has occurred for all items, the scraping code here will not be required until new references are added to the sheet."
   ]
  },
  {
   "cell_type": "code",
   "execution_count": 10,
   "metadata": {},
   "outputs": [],
   "source": [
    "from src.process_references import ProcessReferences"
   ]
  },
  {
   "cell_type": "code",
   "execution_count": 11,
   "metadata": {},
   "outputs": [],
   "source": [
    "references_filepath = conf[\"references_csv\"]"
   ]
  },
  {
   "cell_type": "code",
   "execution_count": 12,
   "metadata": {},
   "outputs": [],
   "source": [
    "reference_processor = ProcessReferences(references_filepath)"
   ]
  },
  {
   "cell_type": "code",
   "execution_count": 13,
   "metadata": {},
   "outputs": [
    {
     "name": "stderr",
     "output_type": "stream",
     "text": [
      "/Users/simonkirby/Projects/research.LCAT.public/data/src/process_references.py:47: FutureWarning: Setting an item of incompatible dtype is deprecated and will raise an error in a future version of pandas. Value '' has dtype incompatible with float64, please explicitly cast to a compatible dtype first.\n",
      "  self.df.fillna(\"\", inplace=True)\n"
     ]
    }
   ],
   "source": [
    "reference_processor.clean_references()"
   ]
  },
  {
   "cell_type": "code",
   "execution_count": 14,
   "metadata": {},
   "outputs": [
    {
     "data": {
      "text/html": [
       "<div>\n",
       "<style scoped>\n",
       "    .dataframe tbody tr th:only-of-type {\n",
       "        vertical-align: middle;\n",
       "    }\n",
       "\n",
       "    .dataframe tbody tr th {\n",
       "        vertical-align: top;\n",
       "    }\n",
       "\n",
       "    .dataframe thead th {\n",
       "        text-align: right;\n",
       "    }\n",
       "</style>\n",
       "<table border=\"1\" class=\"dataframe\">\n",
       "  <thead>\n",
       "    <tr style=\"text-align: right;\">\n",
       "      <th></th>\n",
       "      <th>Reference_ID</th>\n",
       "      <th>Reference_Type</th>\n",
       "      <th>DOI</th>\n",
       "      <th>URL</th>\n",
       "      <th>Replacement_URL</th>\n",
       "      <th>Title</th>\n",
       "      <th>Authors</th>\n",
       "      <th>Date</th>\n",
       "      <th>Journal</th>\n",
       "      <th>Volume/Issue</th>\n",
       "      <th>Notes</th>\n",
       "    </tr>\n",
       "  </thead>\n",
       "  <tbody>\n",
       "    <tr>\n",
       "      <th>0</th>\n",
       "      <td>1</td>\n",
       "      <td>Journal Article</td>\n",
       "      <td>10.1007/s11027-017-9778-4</td>\n",
       "      <td>https://doi.org/10.1007/s11027-017-9778-4</td>\n",
       "      <td></td>\n",
       "      <td>Valuing deaths or years of life lost? Economic...</td>\n",
       "      <td>Aline Chiabai, Joseph V. Spadaro, Marc B. Neumann</td>\n",
       "      <td>2018.0</td>\n",
       "      <td>Mitigation and Adaptation Strategies for Globa...</td>\n",
       "      <td>7</td>\n",
       "      <td></td>\n",
       "    </tr>\n",
       "    <tr>\n",
       "      <th>1</th>\n",
       "      <td>2</td>\n",
       "      <td>Book Section</td>\n",
       "      <td>10.1016/B978-0-12-849887-3.00004-6</td>\n",
       "      <td>https://www.google.co.uk/books/edition/Adaptin...</td>\n",
       "      <td></td>\n",
       "      <td>Adapting to Climate Change in Europe</td>\n",
       "      <td>Laurens Bouwer, Alessio Capriolo, Aline Chiaba...</td>\n",
       "      <td>2018.0</td>\n",
       "      <td></td>\n",
       "      <td></td>\n",
       "      <td></td>\n",
       "    </tr>\n",
       "    <tr>\n",
       "      <th>2</th>\n",
       "      <td>3</td>\n",
       "      <td>Journal Article</td>\n",
       "      <td>10.1016/j.cliser.2016.10.004</td>\n",
       "      <td>https://www.sciencedirect.com/science/article/...</td>\n",
       "      <td></td>\n",
       "      <td>Climate and weather service provision: Economi...</td>\n",
       "      <td>Alistair Hunt, Julia Ferguson, Michela Baccini...</td>\n",
       "      <td>2017.0</td>\n",
       "      <td>Climate Services</td>\n",
       "      <td></td>\n",
       "      <td></td>\n",
       "    </tr>\n",
       "    <tr>\n",
       "      <th>3</th>\n",
       "      <td>4</td>\n",
       "      <td>Journal Article</td>\n",
       "      <td>10.1186/1476-069x-8-40</td>\n",
       "      <td>https://dx.doi.org/10.1186/1476-069x-8-40</td>\n",
       "      <td></td>\n",
       "      <td>High ambient temperature and mortality: a revi...</td>\n",
       "      <td>Rupa Basu</td>\n",
       "      <td>2009.0</td>\n",
       "      <td>Environmental Health</td>\n",
       "      <td>1</td>\n",
       "      <td></td>\n",
       "    </tr>\n",
       "    <tr>\n",
       "      <th>4</th>\n",
       "      <td>5</td>\n",
       "      <td>Journal Article</td>\n",
       "      <td>10.1093/epirev/mxf007</td>\n",
       "      <td>https://dx.doi.org/10.1093/epirev/mxf007</td>\n",
       "      <td></td>\n",
       "      <td>Relation between Elevated Ambient Temperature ...</td>\n",
       "      <td>R. Basu</td>\n",
       "      <td>2002.0</td>\n",
       "      <td>Epidemiologic Reviews</td>\n",
       "      <td>2</td>\n",
       "      <td></td>\n",
       "    </tr>\n",
       "  </tbody>\n",
       "</table>\n",
       "</div>"
      ],
      "text/plain": [
       "   Reference_ID   Reference_Type                                 DOI  \\\n",
       "0             1  Journal Article           10.1007/s11027-017-9778-4   \n",
       "1             2     Book Section  10.1016/B978-0-12-849887-3.00004-6   \n",
       "2             3  Journal Article        10.1016/j.cliser.2016.10.004   \n",
       "3             4  Journal Article              10.1186/1476-069x-8-40   \n",
       "4             5  Journal Article               10.1093/epirev/mxf007   \n",
       "\n",
       "                                                 URL Replacement_URL  \\\n",
       "0          https://doi.org/10.1007/s11027-017-9778-4                   \n",
       "1  https://www.google.co.uk/books/edition/Adaptin...                   \n",
       "2  https://www.sciencedirect.com/science/article/...                   \n",
       "3          https://dx.doi.org/10.1186/1476-069x-8-40                   \n",
       "4           https://dx.doi.org/10.1093/epirev/mxf007                   \n",
       "\n",
       "                                               Title  \\\n",
       "0  Valuing deaths or years of life lost? Economic...   \n",
       "1               Adapting to Climate Change in Europe   \n",
       "2  Climate and weather service provision: Economi...   \n",
       "3  High ambient temperature and mortality: a revi...   \n",
       "4  Relation between Elevated Ambient Temperature ...   \n",
       "\n",
       "                                             Authors    Date  \\\n",
       "0  Aline Chiabai, Joseph V. Spadaro, Marc B. Neumann  2018.0   \n",
       "1  Laurens Bouwer, Alessio Capriolo, Aline Chiaba...  2018.0   \n",
       "2  Alistair Hunt, Julia Ferguson, Michela Baccini...  2017.0   \n",
       "3                                          Rupa Basu  2009.0   \n",
       "4                                            R. Basu  2002.0   \n",
       "\n",
       "                                             Journal Volume/Issue Notes  \n",
       "0  Mitigation and Adaptation Strategies for Globa...            7        \n",
       "1                                                                        \n",
       "2                                   Climate Services                     \n",
       "3                               Environmental Health            1        \n",
       "4                              Epidemiologic Reviews            2        "
      ]
     },
     "execution_count": 14,
     "metadata": {},
     "output_type": "execute_result"
    }
   ],
   "source": [
    "reference_processor.df.head()"
   ]
  },
  {
   "cell_type": "code",
   "execution_count": 15,
   "metadata": {},
   "outputs": [
    {
     "name": "stdout",
     "output_type": "stream",
     "text": [
      "0 references found for scraping\n",
      "\n"
     ]
    }
   ],
   "source": [
    "# If required, re-scrape DOIs using scrape_all_rows=True\n",
    "reference_processor.perform_doi_lookups(scrape_all_rows=False)"
   ]
  },
  {
   "cell_type": "code",
   "execution_count": 16,
   "metadata": {},
   "outputs": [
    {
     "name": "stdout",
     "output_type": "stream",
     "text": [
      "1582 references will be saved in the json.\n"
     ]
    }
   ],
   "source": [
    "reference_processor.process_references()"
   ]
  },
  {
   "cell_type": "code",
   "execution_count": 17,
   "metadata": {},
   "outputs": [],
   "source": [
    "output_filepath = \"./processed_references.json\"\n",
    "reference_processor.save_json(output_filepath)"
   ]
  },
  {
   "cell_type": "markdown",
   "metadata": {},
   "source": [
    "## Conclusion\n",
    "\n",
    "Once the Kumu `.json` export and the references `.csv` have been processed, the output files can be stored alongside the other data files, and added to the `config.yml`. \n",
    "\n",
    "For the processed files, the keys should be as follows:\n",
    "\n",
    "* Processed Kumu output file: `processed_kumu_json`\n",
    "* Processed references output file: `processed_references_json`\n",
    "\n",
    "As mentioned, we ship the `processed_kumu_json` file with the front end, and used the `processed_references_json` to create a references table."
   ]
  }
 ],
 "metadata": {
  "kernelspec": {
   "display_name": ".venv",
   "language": "python",
   "name": "python3"
  },
  "language_info": {
   "codemirror_mode": {
    "name": "ipython",
    "version": 3
   },
   "file_extension": ".py",
   "mimetype": "text/x-python",
   "name": "python",
   "nbconvert_exporter": "python",
   "pygments_lexer": "ipython3",
   "version": "3.12.9"
  }
 },
 "nbformat": 4,
 "nbformat_minor": 2
}
